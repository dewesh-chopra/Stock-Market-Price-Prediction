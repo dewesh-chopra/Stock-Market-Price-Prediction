{
 "cells": [
  {
   "cell_type": "markdown",
   "metadata": {
    "papermill": {
     "duration": 0.021465,
     "end_time": "2021-03-01T03:33:12.505372",
     "exception": false,
     "start_time": "2021-03-01T03:33:12.483907",
     "status": "completed"
    },
    "tags": []
   },
   "source": [
    "# Stock Market Prediction"
   ]
  },
  {
   "cell_type": "markdown",
   "metadata": {
    "papermill": {
     "duration": 0.019187,
     "end_time": "2021-03-01T03:33:12.545049",
     "exception": false,
     "start_time": "2021-03-01T03:33:12.525862",
     "status": "completed"
    },
    "tags": []
   },
   "source": [
    "Here, we will take a look at stock market prediction, using the decision tree and linear regression models."
   ]
  },
  {
   "cell_type": "markdown",
   "metadata": {
    "papermill": {
     "duration": 0.019229,
     "end_time": "2021-03-01T03:33:12.583906",
     "exception": false,
     "start_time": "2021-03-01T03:33:12.564677",
     "status": "completed"
    },
    "tags": []
   },
   "source": [
    "# Importing Libraries"
   ]
  },
  {
   "cell_type": "code",
   "execution_count": 1,
   "metadata": {
    "_cell_guid": "b1076dfc-b9ad-4769-8c92-a6c4dae69d19",
    "_uuid": "8f2839f25d086af736a60e9eeb907d3b93b6e0e5",
    "execution": {
     "iopub.execute_input": "2021-03-01T03:33:12.631756Z",
     "iopub.status.busy": "2021-03-01T03:33:12.630852Z",
     "iopub.status.idle": "2021-03-01T03:33:12.634280Z",
     "shell.execute_reply": "2021-03-01T03:33:12.633606Z"
    },
    "papermill": {
     "duration": 0.03001,
     "end_time": "2021-03-01T03:33:12.634421",
     "exception": false,
     "start_time": "2021-03-01T03:33:12.604411",
     "status": "completed"
    },
    "tags": []
   },
   "outputs": [],
   "source": [
    "# Importing all necessary libraries.\n",
    "import pandas as pd\n",
    "import numpy as np\n",
    "import matplotlib.pyplot as plt"
   ]
  },
  {
   "cell_type": "markdown",
   "metadata": {
    "papermill": {
     "duration": 0.0201,
     "end_time": "2021-03-01T03:33:12.676592",
     "exception": false,
     "start_time": "2021-03-01T03:33:12.656492",
     "status": "completed"
    },
    "tags": []
   },
   "source": [
    "# Data"
   ]
  },
  {
   "cell_type": "code",
   "execution_count": 2,
   "metadata": {
    "_cell_guid": "79c7e3d0-c299-4dcb-8224-4455121ee9b0",
    "_uuid": "d629ff2d2480ee46fbb7e2d37f6b5fab8052498a",
    "execution": {
     "iopub.execute_input": "2021-03-01T03:33:12.720869Z",
     "iopub.status.busy": "2021-03-01T03:33:12.720030Z",
     "iopub.status.idle": "2021-03-01T03:33:12.751157Z",
     "shell.execute_reply": "2021-03-01T03:33:12.750309Z"
    },
    "papermill": {
     "duration": 0.054597,
     "end_time": "2021-03-01T03:33:12.751301",
     "exception": false,
     "start_time": "2021-03-01T03:33:12.696704",
     "status": "completed"
    },
    "tags": []
   },
   "outputs": [],
   "source": [
    "# Using data from Apple's stock.\n",
    "df = pd.read_csv('stocks2.csv')"
   ]
  },
  {
   "cell_type": "code",
   "execution_count": 3,
   "metadata": {
    "execution": {
     "iopub.execute_input": "2021-03-01T03:33:12.807768Z",
     "iopub.status.busy": "2021-03-01T03:33:12.806953Z",
     "iopub.status.idle": "2021-03-01T03:33:12.819842Z",
     "shell.execute_reply": "2021-03-01T03:33:12.820339Z"
    },
    "papermill": {
     "duration": 0.049161,
     "end_time": "2021-03-01T03:33:12.820524",
     "exception": false,
     "start_time": "2021-03-01T03:33:12.771363",
     "status": "completed"
    },
    "scrolled": true,
    "tags": []
   },
   "outputs": [
    {
     "data": {
      "text/html": [
       "<div>\n",
       "<style scoped>\n",
       "    .dataframe tbody tr th:only-of-type {\n",
       "        vertical-align: middle;\n",
       "    }\n",
       "\n",
       "    .dataframe tbody tr th {\n",
       "        vertical-align: top;\n",
       "    }\n",
       "\n",
       "    .dataframe thead th {\n",
       "        text-align: right;\n",
       "    }\n",
       "</style>\n",
       "<table border=\"1\" class=\"dataframe\">\n",
       "  <thead>\n",
       "    <tr style=\"text-align: right;\">\n",
       "      <th></th>\n",
       "      <th>date</th>\n",
       "      <th>open</th>\n",
       "      <th>high</th>\n",
       "      <th>low</th>\n",
       "      <th>close</th>\n",
       "      <th>volume</th>\n",
       "      <th>Name</th>\n",
       "    </tr>\n",
       "  </thead>\n",
       "  <tbody>\n",
       "    <tr>\n",
       "      <th>0</th>\n",
       "      <td>08-02-2013</td>\n",
       "      <td>15.07</td>\n",
       "      <td>15.12</td>\n",
       "      <td>14.63</td>\n",
       "      <td>14.75</td>\n",
       "      <td>8407500</td>\n",
       "      <td>AAL</td>\n",
       "    </tr>\n",
       "    <tr>\n",
       "      <th>1</th>\n",
       "      <td>11-02-2013</td>\n",
       "      <td>14.89</td>\n",
       "      <td>15.01</td>\n",
       "      <td>14.26</td>\n",
       "      <td>14.46</td>\n",
       "      <td>8882000</td>\n",
       "      <td>AAL</td>\n",
       "    </tr>\n",
       "    <tr>\n",
       "      <th>2</th>\n",
       "      <td>12-02-2013</td>\n",
       "      <td>14.45</td>\n",
       "      <td>14.51</td>\n",
       "      <td>14.10</td>\n",
       "      <td>14.27</td>\n",
       "      <td>8126000</td>\n",
       "      <td>AAL</td>\n",
       "    </tr>\n",
       "    <tr>\n",
       "      <th>3</th>\n",
       "      <td>13-02-2013</td>\n",
       "      <td>14.30</td>\n",
       "      <td>14.94</td>\n",
       "      <td>14.25</td>\n",
       "      <td>14.66</td>\n",
       "      <td>10259500</td>\n",
       "      <td>AAL</td>\n",
       "    </tr>\n",
       "    <tr>\n",
       "      <th>4</th>\n",
       "      <td>14-02-2013</td>\n",
       "      <td>14.94</td>\n",
       "      <td>14.96</td>\n",
       "      <td>13.16</td>\n",
       "      <td>13.99</td>\n",
       "      <td>31879900</td>\n",
       "      <td>AAL</td>\n",
       "    </tr>\n",
       "  </tbody>\n",
       "</table>\n",
       "</div>"
      ],
      "text/plain": [
       "         date   open   high    low  close    volume Name\n",
       "0  08-02-2013  15.07  15.12  14.63  14.75   8407500  AAL\n",
       "1  11-02-2013  14.89  15.01  14.26  14.46   8882000  AAL\n",
       "2  12-02-2013  14.45  14.51  14.10  14.27   8126000  AAL\n",
       "3  13-02-2013  14.30  14.94  14.25  14.66  10259500  AAL\n",
       "4  14-02-2013  14.94  14.96  13.16  13.99  31879900  AAL"
      ]
     },
     "execution_count": 3,
     "metadata": {},
     "output_type": "execute_result"
    }
   ],
   "source": [
    "df.head()"
   ]
  },
  {
   "cell_type": "code",
   "execution_count": 4,
   "metadata": {
    "execution": {
     "iopub.execute_input": "2021-03-01T03:33:12.865692Z",
     "iopub.status.busy": "2021-03-01T03:33:12.864573Z",
     "iopub.status.idle": "2021-03-01T03:33:12.884575Z",
     "shell.execute_reply": "2021-03-01T03:33:12.883861Z"
    },
    "papermill": {
     "duration": 0.043479,
     "end_time": "2021-03-01T03:33:12.884701",
     "exception": false,
     "start_time": "2021-03-01T03:33:12.841222",
     "status": "completed"
    },
    "tags": []
   },
   "outputs": [
    {
     "name": "stdout",
     "output_type": "stream",
     "text": [
      "<class 'pandas.core.frame.DataFrame'>\n",
      "RangeIndex: 364 entries, 0 to 363\n",
      "Data columns (total 7 columns):\n",
      " #   Column  Non-Null Count  Dtype  \n",
      "---  ------  --------------  -----  \n",
      " 0   date    364 non-null    object \n",
      " 1   open    364 non-null    float64\n",
      " 2   high    364 non-null    float64\n",
      " 3   low     364 non-null    float64\n",
      " 4   close   364 non-null    float64\n",
      " 5   volume  364 non-null    int64  \n",
      " 6   Name    364 non-null    object \n",
      "dtypes: float64(4), int64(1), object(2)\n",
      "memory usage: 20.0+ KB\n"
     ]
    }
   ],
   "source": [
    "df.info()"
   ]
  },
  {
   "cell_type": "code",
   "execution_count": 5,
   "metadata": {
    "execution": {
     "iopub.execute_input": "2021-03-01T03:33:12.938458Z",
     "iopub.status.busy": "2021-03-01T03:33:12.937754Z",
     "iopub.status.idle": "2021-03-01T03:33:12.963495Z",
     "shell.execute_reply": "2021-03-01T03:33:12.962931Z"
    },
    "papermill": {
     "duration": 0.057937,
     "end_time": "2021-03-01T03:33:12.963640",
     "exception": false,
     "start_time": "2021-03-01T03:33:12.905703",
     "status": "completed"
    },
    "tags": []
   },
   "outputs": [
    {
     "data": {
      "text/html": [
       "<div>\n",
       "<style scoped>\n",
       "    .dataframe tbody tr th:only-of-type {\n",
       "        vertical-align: middle;\n",
       "    }\n",
       "\n",
       "    .dataframe tbody tr th {\n",
       "        vertical-align: top;\n",
       "    }\n",
       "\n",
       "    .dataframe thead th {\n",
       "        text-align: right;\n",
       "    }\n",
       "</style>\n",
       "<table border=\"1\" class=\"dataframe\">\n",
       "  <thead>\n",
       "    <tr style=\"text-align: right;\">\n",
       "      <th></th>\n",
       "      <th>open</th>\n",
       "      <th>high</th>\n",
       "      <th>low</th>\n",
       "      <th>close</th>\n",
       "      <th>volume</th>\n",
       "    </tr>\n",
       "  </thead>\n",
       "  <tbody>\n",
       "    <tr>\n",
       "      <th>count</th>\n",
       "      <td>364.000000</td>\n",
       "      <td>364.00000</td>\n",
       "      <td>364.000000</td>\n",
       "      <td>364.000000</td>\n",
       "      <td>3.640000e+02</td>\n",
       "    </tr>\n",
       "    <tr>\n",
       "      <th>mean</th>\n",
       "      <td>25.596291</td>\n",
       "      <td>26.02580</td>\n",
       "      <td>25.193307</td>\n",
       "      <td>25.633128</td>\n",
       "      <td>9.587899e+06</td>\n",
       "    </tr>\n",
       "    <tr>\n",
       "      <th>std</th>\n",
       "      <td>9.702431</td>\n",
       "      <td>9.85416</td>\n",
       "      <td>9.565598</td>\n",
       "      <td>9.746525</td>\n",
       "      <td>7.266367e+06</td>\n",
       "    </tr>\n",
       "    <tr>\n",
       "      <th>min</th>\n",
       "      <td>13.140000</td>\n",
       "      <td>13.42000</td>\n",
       "      <td>12.700000</td>\n",
       "      <td>13.020000</td>\n",
       "      <td>2.104100e+06</td>\n",
       "    </tr>\n",
       "    <tr>\n",
       "      <th>25%</th>\n",
       "      <td>17.010000</td>\n",
       "      <td>17.20000</td>\n",
       "      <td>16.820000</td>\n",
       "      <td>16.977500</td>\n",
       "      <td>5.398488e+06</td>\n",
       "    </tr>\n",
       "    <tr>\n",
       "      <th>50%</th>\n",
       "      <td>22.200000</td>\n",
       "      <td>22.62500</td>\n",
       "      <td>21.670000</td>\n",
       "      <td>22.045000</td>\n",
       "      <td>8.130749e+06</td>\n",
       "    </tr>\n",
       "    <tr>\n",
       "      <th>75%</th>\n",
       "      <td>36.000000</td>\n",
       "      <td>36.67000</td>\n",
       "      <td>35.327500</td>\n",
       "      <td>35.830000</td>\n",
       "      <td>1.138436e+07</td>\n",
       "    </tr>\n",
       "    <tr>\n",
       "      <th>max</th>\n",
       "      <td>44.300000</td>\n",
       "      <td>44.88000</td>\n",
       "      <td>43.910000</td>\n",
       "      <td>44.550000</td>\n",
       "      <td>7.859120e+07</td>\n",
       "    </tr>\n",
       "  </tbody>\n",
       "</table>\n",
       "</div>"
      ],
      "text/plain": [
       "             open       high         low       close        volume\n",
       "count  364.000000  364.00000  364.000000  364.000000  3.640000e+02\n",
       "mean    25.596291   26.02580   25.193307   25.633128  9.587899e+06\n",
       "std      9.702431    9.85416    9.565598    9.746525  7.266367e+06\n",
       "min     13.140000   13.42000   12.700000   13.020000  2.104100e+06\n",
       "25%     17.010000   17.20000   16.820000   16.977500  5.398488e+06\n",
       "50%     22.200000   22.62500   21.670000   22.045000  8.130749e+06\n",
       "75%     36.000000   36.67000   35.327500   35.830000  1.138436e+07\n",
       "max     44.300000   44.88000   43.910000   44.550000  7.859120e+07"
      ]
     },
     "execution_count": 5,
     "metadata": {},
     "output_type": "execute_result"
    }
   ],
   "source": [
    "df.describe()"
   ]
  },
  {
   "cell_type": "code",
   "execution_count": 6,
   "metadata": {
    "execution": {
     "iopub.execute_input": "2021-03-01T03:33:13.014053Z",
     "iopub.status.busy": "2021-03-01T03:33:13.013127Z",
     "iopub.status.idle": "2021-03-01T03:33:13.017637Z",
     "shell.execute_reply": "2021-03-01T03:33:13.016970Z"
    },
    "papermill": {
     "duration": 0.032349,
     "end_time": "2021-03-01T03:33:13.017760",
     "exception": false,
     "start_time": "2021-03-01T03:33:12.985411",
     "status": "completed"
    },
    "tags": []
   },
   "outputs": [
    {
     "data": {
      "text/plain": [
       "(364, 7)"
      ]
     },
     "execution_count": 6,
     "metadata": {},
     "output_type": "execute_result"
    }
   ],
   "source": [
    "df.shape"
   ]
  },
  {
   "cell_type": "markdown",
   "metadata": {
    "papermill": {
     "duration": 0.022014,
     "end_time": "2021-03-01T03:33:13.062760",
     "exception": false,
     "start_time": "2021-03-01T03:33:13.040746",
     "status": "completed"
    },
    "tags": []
   },
   "source": [
    "# External Data Analysis"
   ]
  },
  {
   "cell_type": "code",
   "execution_count": 7,
   "metadata": {
    "execution": {
     "iopub.execute_input": "2021-03-01T03:33:13.116240Z",
     "iopub.status.busy": "2021-03-01T03:33:13.115457Z",
     "iopub.status.idle": "2021-03-01T03:33:13.361154Z",
     "shell.execute_reply": "2021-03-01T03:33:13.361743Z"
    },
    "papermill": {
     "duration": 0.276273,
     "end_time": "2021-03-01T03:33:13.361904",
     "exception": false,
     "start_time": "2021-03-01T03:33:13.085631",
     "status": "completed"
    },
    "tags": []
   },
   "outputs": [],
   "source": [
    "# Visualizing the opening prices of the data.\n",
    "# plt.figure(figsize=(16,8))\n",
    "# plt.title('Apple')\n",
    "# plt.xlabel('Days')\n",
    "# plt.ylabel('Opening Price USD ($)')\n",
    "# plt.plot(df['open'])\n",
    "# plt.show()"
   ]
  },
  {
   "cell_type": "code",
   "execution_count": 8,
   "metadata": {
    "execution": {
     "iopub.execute_input": "2021-03-01T03:33:13.422277Z",
     "iopub.status.busy": "2021-03-01T03:33:13.421490Z",
     "iopub.status.idle": "2021-03-01T03:33:13.696962Z",
     "shell.execute_reply": "2021-03-01T03:33:13.696223Z"
    },
    "papermill": {
     "duration": 0.308314,
     "end_time": "2021-03-01T03:33:13.697124",
     "exception": false,
     "start_time": "2021-03-01T03:33:13.388810",
     "status": "completed"
    },
    "tags": []
   },
   "outputs": [],
   "source": [
    "# Visualizing the high prices of the data.\n",
    "# plt.figure(figsize=(16,8))\n",
    "# plt.title('Apple')\n",
    "# plt.xlabel('Days')\n",
    "# plt.ylabel('High Price USD ($)')\n",
    "# plt.plot(df['high'])\n",
    "# plt.show()"
   ]
  },
  {
   "cell_type": "code",
   "execution_count": 9,
   "metadata": {
    "execution": {
     "iopub.execute_input": "2021-03-01T03:33:13.763785Z",
     "iopub.status.busy": "2021-03-01T03:33:13.761422Z",
     "iopub.status.idle": "2021-03-01T03:33:13.941273Z",
     "shell.execute_reply": "2021-03-01T03:33:13.941872Z"
    },
    "papermill": {
     "duration": 0.219172,
     "end_time": "2021-03-01T03:33:13.942070",
     "exception": false,
     "start_time": "2021-03-01T03:33:13.722898",
     "status": "completed"
    },
    "tags": []
   },
   "outputs": [],
   "source": [
    "# Visualizing the low prices of the data.\n",
    "# plt.figure(figsize=(16,8))\n",
    "# plt.title('Apple')\n",
    "# plt.xlabel('Days')\n",
    "# plt.ylabel('Low Price USD ($)')\n",
    "# plt.plot(df['low'])\n",
    "# plt.show()"
   ]
  },
  {
   "cell_type": "code",
   "execution_count": 10,
   "metadata": {
    "execution": {
     "iopub.execute_input": "2021-03-01T03:33:14.010960Z",
     "iopub.status.busy": "2021-03-01T03:33:14.010220Z",
     "iopub.status.idle": "2021-03-01T03:33:14.195189Z",
     "shell.execute_reply": "2021-03-01T03:33:14.194400Z"
    },
    "papermill": {
     "duration": 0.22503,
     "end_time": "2021-03-01T03:33:14.195326",
     "exception": false,
     "start_time": "2021-03-01T03:33:13.970296",
     "status": "completed"
    },
    "tags": []
   },
   "outputs": [
    {
     "data": {
      "image/png": "[encoded data removed]",
      "text/plain": [
       "<Figure size 1152x576 with 1 Axes>"
      ]
     },
     "metadata": {
      "needs_background": "light"
     },
     "output_type": "display_data"
    }
   ],
   "source": [
    "# Visualizing the closing prices of the data.\n",
    "plt.figure(figsize=(16,8))\n",
    "plt.title('Closing price data')\n",
    "plt.xlabel('Days')\n",
    "plt.ylabel('Closing Price USD ($)')\n",
    "plt.plot(df['close'])\n",
    "plt.show()"
   ]
  },
  {
   "cell_type": "code",
   "execution_count": 11,
   "metadata": {
    "execution": {
     "iopub.execute_input": "2021-03-01T03:33:14.260559Z",
     "iopub.status.busy": "2021-03-01T03:33:14.259437Z",
     "iopub.status.idle": "2021-03-01T03:33:14.263223Z",
     "shell.execute_reply": "2021-03-01T03:33:14.262529Z"
    },
    "papermill": {
     "duration": 0.038826,
     "end_time": "2021-03-01T03:33:14.263347",
     "exception": false,
     "start_time": "2021-03-01T03:33:14.224521",
     "status": "completed"
    },
    "tags": []
   },
   "outputs": [],
   "source": [
    "df2 = df['close']"
   ]
  },
  {
   "cell_type": "code",
   "execution_count": 12,
   "metadata": {
    "execution": {
     "iopub.execute_input": "2021-03-01T03:33:14.330179Z",
     "iopub.status.busy": "2021-03-01T03:33:14.329429Z",
     "iopub.status.idle": "2021-03-01T03:33:14.332128Z",
     "shell.execute_reply": "2021-03-01T03:33:14.332679Z"
    },
    "papermill": {
     "duration": 0.039861,
     "end_time": "2021-03-01T03:33:14.332838",
     "exception": false,
     "start_time": "2021-03-01T03:33:14.292977",
     "status": "completed"
    },
    "tags": []
   },
   "outputs": [
    {
     "data": {
      "text/plain": [
       "359    43.7000\n",
       "360    43.4800\n",
       "361    41.6999\n",
       "362    42.9199\n",
       "363    42.4800\n",
       "Name: close, dtype: float64"
      ]
     },
     "execution_count": 12,
     "metadata": {},
     "output_type": "execute_result"
    }
   ],
   "source": [
    "df2.tail()"
   ]
  },
  {
   "cell_type": "code",
   "execution_count": 13,
   "metadata": {
    "execution": {
     "iopub.execute_input": "2021-03-01T03:33:14.398917Z",
     "iopub.status.busy": "2021-03-01T03:33:14.398164Z",
     "iopub.status.idle": "2021-03-01T03:33:14.404032Z",
     "shell.execute_reply": "2021-03-01T03:33:14.403445Z"
    },
    "papermill": {
     "duration": 0.041581,
     "end_time": "2021-03-01T03:33:14.404179",
     "exception": false,
     "start_time": "2021-03-01T03:33:14.362598",
     "status": "completed"
    },
    "tags": []
   },
   "outputs": [],
   "source": [
    "df2 = pd.DataFrame(df2)"
   ]
  },
  {
   "cell_type": "code",
   "execution_count": 14,
   "metadata": {
    "execution": {
     "iopub.execute_input": "2021-03-01T03:33:14.475943Z",
     "iopub.status.busy": "2021-03-01T03:33:14.474866Z",
     "iopub.status.idle": "2021-03-01T03:33:14.479036Z",
     "shell.execute_reply": "2021-03-01T03:33:14.479584Z"
    },
    "papermill": {
     "duration": 0.045288,
     "end_time": "2021-03-01T03:33:14.479744",
     "exception": false,
     "start_time": "2021-03-01T03:33:14.434456",
     "status": "completed"
    },
    "tags": []
   },
   "outputs": [
    {
     "data": {
      "text/html": [
       "<div>\n",
       "<style scoped>\n",
       "    .dataframe tbody tr th:only-of-type {\n",
       "        vertical-align: middle;\n",
       "    }\n",
       "\n",
       "    .dataframe tbody tr th {\n",
       "        vertical-align: top;\n",
       "    }\n",
       "\n",
       "    .dataframe thead th {\n",
       "        text-align: right;\n",
       "    }\n",
       "</style>\n",
       "<table border=\"1\" class=\"dataframe\">\n",
       "  <thead>\n",
       "    <tr style=\"text-align: right;\">\n",
       "      <th></th>\n",
       "      <th>close</th>\n",
       "    </tr>\n",
       "  </thead>\n",
       "  <tbody>\n",
       "    <tr>\n",
       "      <th>359</th>\n",
       "      <td>43.7000</td>\n",
       "    </tr>\n",
       "    <tr>\n",
       "      <th>360</th>\n",
       "      <td>43.4800</td>\n",
       "    </tr>\n",
       "    <tr>\n",
       "      <th>361</th>\n",
       "      <td>41.6999</td>\n",
       "    </tr>\n",
       "    <tr>\n",
       "      <th>362</th>\n",
       "      <td>42.9199</td>\n",
       "    </tr>\n",
       "    <tr>\n",
       "      <th>363</th>\n",
       "      <td>42.4800</td>\n",
       "    </tr>\n",
       "  </tbody>\n",
       "</table>\n",
       "</div>"
      ],
      "text/plain": [
       "       close\n",
       "359  43.7000\n",
       "360  43.4800\n",
       "361  41.6999\n",
       "362  42.9199\n",
       "363  42.4800"
      ]
     },
     "execution_count": 14,
     "metadata": {},
     "output_type": "execute_result"
    }
   ],
   "source": [
    "df2.tail()"
   ]
  },
  {
   "cell_type": "code",
   "execution_count": 15,
   "metadata": {
    "execution": {
     "iopub.execute_input": "2021-03-01T03:33:14.546965Z",
     "iopub.status.busy": "2021-03-01T03:33:14.545872Z",
     "iopub.status.idle": "2021-03-01T03:33:14.553389Z",
     "shell.execute_reply": "2021-03-01T03:33:14.552801Z"
    },
    "papermill": {
     "duration": 0.042202,
     "end_time": "2021-03-01T03:33:14.553528",
     "exception": false,
     "start_time": "2021-03-01T03:33:14.511326",
     "status": "completed"
    },
    "tags": []
   },
   "outputs": [],
   "source": [
    "# Prediction 'x' days into the future.\n",
    "future_days = 50\n",
    "df2['Prediction'] = df2[['close']].shift(-future_days)"
   ]
  },
  {
   "cell_type": "code",
   "execution_count": 16,
   "metadata": {
    "execution": {
     "iopub.execute_input": "2021-03-01T03:33:14.620528Z",
     "iopub.status.busy": "2021-03-01T03:33:14.619351Z",
     "iopub.status.idle": "2021-03-01T03:33:14.629969Z",
     "shell.execute_reply": "2021-03-01T03:33:14.630500Z"
    },
    "papermill": {
     "duration": 0.04625,
     "end_time": "2021-03-01T03:33:14.630682",
     "exception": false,
     "start_time": "2021-03-01T03:33:14.584432",
     "status": "completed"
    },
    "tags": []
   },
   "outputs": [
    {
     "data": {
      "text/html": [
       "<div>\n",
       "<style scoped>\n",
       "    .dataframe tbody tr th:only-of-type {\n",
       "        vertical-align: middle;\n",
       "    }\n",
       "\n",
       "    .dataframe tbody tr th {\n",
       "        vertical-align: top;\n",
       "    }\n",
       "\n",
       "    .dataframe thead th {\n",
       "        text-align: right;\n",
       "    }\n",
       "</style>\n",
       "<table border=\"1\" class=\"dataframe\">\n",
       "  <thead>\n",
       "    <tr style=\"text-align: right;\">\n",
       "      <th></th>\n",
       "      <th>close</th>\n",
       "      <th>Prediction</th>\n",
       "    </tr>\n",
       "  </thead>\n",
       "  <tbody>\n",
       "    <tr>\n",
       "      <th>359</th>\n",
       "      <td>43.7000</td>\n",
       "      <td>NaN</td>\n",
       "    </tr>\n",
       "    <tr>\n",
       "      <th>360</th>\n",
       "      <td>43.4800</td>\n",
       "      <td>NaN</td>\n",
       "    </tr>\n",
       "    <tr>\n",
       "      <th>361</th>\n",
       "      <td>41.6999</td>\n",
       "      <td>NaN</td>\n",
       "    </tr>\n",
       "    <tr>\n",
       "      <th>362</th>\n",
       "      <td>42.9199</td>\n",
       "      <td>NaN</td>\n",
       "    </tr>\n",
       "    <tr>\n",
       "      <th>363</th>\n",
       "      <td>42.4800</td>\n",
       "      <td>NaN</td>\n",
       "    </tr>\n",
       "  </tbody>\n",
       "</table>\n",
       "</div>"
      ],
      "text/plain": [
       "       close  Prediction\n",
       "359  43.7000         NaN\n",
       "360  43.4800         NaN\n",
       "361  41.6999         NaN\n",
       "362  42.9199         NaN\n",
       "363  42.4800         NaN"
      ]
     },
     "execution_count": 16,
     "metadata": {},
     "output_type": "execute_result"
    }
   ],
   "source": [
    "df2.tail()"
   ]
  },
  {
   "cell_type": "code",
   "execution_count": 17,
   "metadata": {
    "execution": {
     "iopub.execute_input": "2021-03-01T03:33:14.698482Z",
     "iopub.status.busy": "2021-03-01T03:33:14.697339Z",
     "iopub.status.idle": "2021-03-01T03:33:14.707617Z",
     "shell.execute_reply": "2021-03-01T03:33:14.706881Z"
    },
    "papermill": {
     "duration": 0.045512,
     "end_time": "2021-03-01T03:33:14.707748",
     "exception": false,
     "start_time": "2021-03-01T03:33:14.662236",
     "status": "completed"
    },
    "tags": []
   },
   "outputs": [
    {
     "name": "stdout",
     "output_type": "stream",
     "text": [
      "[[14.75  ]\n",
      " [14.46  ]\n",
      " [14.27  ]\n",
      " [14.66  ]\n",
      " [13.99  ]\n",
      " [14.5   ]\n",
      " [14.26  ]\n",
      " [13.33  ]\n",
      " [13.37  ]\n",
      " [13.57  ]\n",
      " [13.02  ]\n",
      " [13.26  ]\n",
      " [13.41  ]\n",
      " [13.43  ]\n",
      " [13.61  ]\n",
      " [13.9   ]\n",
      " [14.05  ]\n",
      " [14.57  ]\n",
      " [14.82  ]\n",
      " [14.92  ]\n",
      " [15.13  ]\n",
      " [15.5   ]\n",
      " [15.91  ]\n",
      " [16.25  ]\n",
      " [15.98  ]\n",
      " [16.29  ]\n",
      " [16.78  ]\n",
      " [17.23  ]\n",
      " [17.    ]\n",
      " [16.86  ]\n",
      " [16.6   ]\n",
      " [16.51  ]\n",
      " [16.65  ]\n",
      " [16.97  ]\n",
      " [16.67  ]\n",
      " [15.74  ]\n",
      " [15.53  ]\n",
      " [15.69  ]\n",
      " [15.72  ]\n",
      " [15.84  ]\n",
      " [15.7   ]\n",
      " [15.78  ]\n",
      " [16.19  ]\n",
      " [16.14  ]\n",
      " [15.59  ]\n",
      " [16.37  ]\n",
      " [16.52  ]\n",
      " [16.1   ]\n",
      " [16.02  ]\n",
      " [15.52  ]\n",
      " [16.3   ]\n",
      " [16.45  ]\n",
      " [16.22  ]\n",
      " [16.59  ]\n",
      " [16.81  ]\n",
      " [16.9   ]\n",
      " [16.6   ]\n",
      " [16.94  ]\n",
      " [17.02  ]\n",
      " [17.    ]\n",
      " [16.98  ]\n",
      " [17.34  ]\n",
      " [17.38  ]\n",
      " [17.76  ]\n",
      " [17.72  ]\n",
      " [18.1   ]\n",
      " [18.81  ]\n",
      " [19.12  ]\n",
      " [19.01  ]\n",
      " [18.59  ]\n",
      " [17.95  ]\n",
      " [17.93  ]\n",
      " [18.19  ]\n",
      " [18.21  ]\n",
      " [18.12  ]\n",
      " [17.83  ]\n",
      " [17.67  ]\n",
      " [17.57  ]\n",
      " [17.73  ]\n",
      " [17.65  ]\n",
      " [16.95  ]\n",
      " [16.64  ]\n",
      " [17.02  ]\n",
      " [17.26  ]\n",
      " [16.92  ]\n",
      " [16.88  ]\n",
      " [17.01  ]\n",
      " [16.93  ]\n",
      " [16.95  ]\n",
      " [17.22  ]\n",
      " [17.06  ]\n",
      " [16.73  ]\n",
      " [16.34  ]\n",
      " [16.13  ]\n",
      " [16.46  ]\n",
      " [16.17  ]\n",
      " [16.31  ]\n",
      " [16.42  ]\n",
      " [16.8   ]\n",
      " [16.43  ]\n",
      " [16.75  ]\n",
      " [16.84  ]\n",
      " [16.94  ]\n",
      " [17.36  ]\n",
      " [17.17  ]\n",
      " [17.37  ]\n",
      " [17.56  ]\n",
      " [17.76  ]\n",
      " [17.95  ]\n",
      " [18.45  ]\n",
      " [18.42  ]\n",
      " [18.23  ]\n",
      " [18.15  ]\n",
      " [18.05  ]\n",
      " [18.5   ]\n",
      " [18.83  ]\n",
      " [19.09  ]\n",
      " [19.23  ]\n",
      " [19.2   ]\n",
      " [19.35  ]\n",
      " [19.38  ]\n",
      " [18.92  ]\n",
      " [19.17  ]\n",
      " [18.92  ]\n",
      " [18.87  ]\n",
      " [18.98  ]\n",
      " [18.6   ]\n",
      " [18.82  ]\n",
      " [16.36  ]\n",
      " [16.17  ]\n",
      " [15.72  ]\n",
      " [16.01  ]\n",
      " [15.64  ]\n",
      " [15.8   ]\n",
      " [15.81  ]\n",
      " [16.27  ]\n",
      " [16.16  ]\n",
      " [16.21  ]\n",
      " [15.47  ]\n",
      " [15.34  ]\n",
      " [15.96  ]\n",
      " [16.16  ]\n",
      " [16.39  ]\n",
      " [16.81  ]\n",
      " [16.99  ]\n",
      " [16.8   ]\n",
      " [17.47  ]\n",
      " [18.12  ]\n",
      " [17.72  ]\n",
      " [17.63  ]\n",
      " [17.87  ]\n",
      " [18.07  ]\n",
      " [18.72  ]\n",
      " [18.68  ]\n",
      " [18.97  ]\n",
      " [18.89  ]\n",
      " [18.86  ]\n",
      " [18.99  ]\n",
      " [19.18  ]\n",
      " [19.47  ]\n",
      " [19.08  ]\n",
      " [18.96  ]\n",
      " [19.69  ]\n",
      " [19.84  ]\n",
      " [20.48  ]\n",
      " [20.53  ]\n",
      " [20.39  ]\n",
      " [20.02  ]\n",
      " [20.06  ]\n",
      " [20.5   ]\n",
      " [20.72  ]\n",
      " [20.58  ]\n",
      " [20.5   ]\n",
      " [20.62  ]\n",
      " [21.    ]\n",
      " [21.14  ]\n",
      " [21.22  ]\n",
      " [21.95  ]\n",
      " [21.4   ]\n",
      " [22.67  ]\n",
      " [22.15  ]\n",
      " [22.01  ]\n",
      " [22.37  ]\n",
      " [22.58  ]\n",
      " [21.97  ]\n",
      " [22.44  ]\n",
      " [22.71  ]\n",
      " [22.68  ]\n",
      " [22.4   ]\n",
      " [22.08  ]\n",
      " [23.21  ]\n",
      " [23.27  ]\n",
      " [23.52  ]\n",
      " [23.31  ]\n",
      " [23.66  ]\n",
      " [23.89  ]\n",
      " [24.4   ]\n",
      " [24.23  ]\n",
      " [24.06  ]\n",
      " [23.99  ]\n",
      " [24.27  ]\n",
      " [24.24  ]\n",
      " [23.81  ]\n",
      " [23.98  ]\n",
      " [23.48  ]\n",
      " [23.04  ]\n",
      " [22.39  ]\n",
      " [21.87  ]\n",
      " [22.35  ]\n",
      " [22.55  ]\n",
      " [24.6   ]\n",
      " [24.88  ]\n",
      " [25.99  ]\n",
      " [25.45  ]\n",
      " [26.23  ]\n",
      " [26.61  ]\n",
      " [26.1   ]\n",
      " [26.23  ]\n",
      " [26.12  ]\n",
      " [26.33  ]\n",
      " [26.18  ]\n",
      " [26.25  ]\n",
      " [26.13  ]\n",
      " [24.94  ]\n",
      " [24.78  ]\n",
      " [25.25  ]\n",
      " [25.36  ]\n",
      " [26.54  ]\n",
      " [27.03  ]\n",
      " [26.905 ]\n",
      " [27.63  ]\n",
      " [29.42  ]\n",
      " [29.35  ]\n",
      " [28.65  ]\n",
      " [28.87  ]\n",
      " [28.84  ]\n",
      " [29.34  ]\n",
      " [30.02  ]\n",
      " [30.66  ]\n",
      " [31.2   ]\n",
      " [31.35  ]\n",
      " [30.4   ]\n",
      " [30.18  ]\n",
      " [31.96  ]\n",
      " [32.98  ]\n",
      " [33.8   ]\n",
      " [33.55  ]\n",
      " [33.96  ]\n",
      " [34.05  ]\n",
      " [33.8   ]\n",
      " [34.66  ]\n",
      " [35.67  ]\n",
      " [35.58  ]\n",
      " [35.13  ]\n",
      " [34.69  ]\n",
      " [35.025 ]\n",
      " [34.41  ]\n",
      " [34.31  ]\n",
      " [34.59  ]\n",
      " [35.66  ]\n",
      " [36.17  ]\n",
      " [36.65  ]\n",
      " [37.    ]\n",
      " [36.75  ]\n",
      " [36.56  ]\n",
      " [36.93  ]\n",
      " [36.1   ]\n",
      " [37.34  ]\n",
      " [37.86  ]\n",
      " [38.81  ]\n",
      " [39.02  ]\n",
      " [38.96  ]\n",
      " [38.08  ]\n",
      " [37.5599]\n",
      " [36.74  ]\n",
      " [36.34  ]\n",
      " [37.7   ]\n",
      " [37.35  ]\n",
      " [37.08  ]\n",
      " [36.56  ]\n",
      " [36.11  ]\n",
      " [36.8   ]\n",
      " [37.9   ]\n",
      " [36.7   ]\n",
      " [35.77  ]\n",
      " [35.39  ]\n",
      " [36.6   ]\n",
      " [37.94  ]\n",
      " [37.71  ]\n",
      " [37.34  ]\n",
      " [36.56  ]\n",
      " [35.78  ]\n",
      " [35.98  ]\n",
      " [36.9   ]\n",
      " [35.29  ]\n",
      " [33.6799]\n",
      " [33.37  ]\n",
      " [33.72  ]\n",
      " [35.51  ]\n",
      " [35.4   ]\n",
      " [35.67  ]\n",
      " [36.16  ]\n",
      " [37.09  ]\n",
      " [37.26  ]\n",
      " [36.    ]\n",
      " [35.16  ]\n",
      " [35.51  ]\n",
      " [35.07  ]\n",
      " [36.39  ]\n",
      " [36.49  ]\n",
      " [36.6   ]\n",
      " [36.67  ]\n",
      " [37.22  ]\n",
      " [38.25  ]]\n"
     ]
    },
    {
     "name": "stderr",
     "output_type": "stream",
     "text": [
      "C:\\Users\\Dewesh Chopra\\AppData\\Local\\Temp\\ipykernel_11752\\4086322951.py:1: FutureWarning: In a future version of pandas all arguments of DataFrame.drop except for the argument 'labels' will be keyword-only.\n",
      "  x = np.array(df2.drop(['Prediction'], 1))[:-future_days]\n"
     ]
    }
   ],
   "source": [
    "x = np.array(df2.drop(['Prediction'], 1))[:-future_days]\n",
    "print(x)"
   ]
  },
  {
   "cell_type": "code",
   "execution_count": 18,
   "metadata": {
    "execution": {
     "iopub.execute_input": "2021-03-01T03:33:14.779269Z",
     "iopub.status.busy": "2021-03-01T03:33:14.778294Z",
     "iopub.status.idle": "2021-03-01T03:33:14.782397Z",
     "shell.execute_reply": "2021-03-01T03:33:14.781761Z"
    },
    "papermill": {
     "duration": 0.04276,
     "end_time": "2021-03-01T03:33:14.782531",
     "exception": false,
     "start_time": "2021-03-01T03:33:14.739771",
     "status": "completed"
    },
    "tags": []
   },
   "outputs": [
    {
     "name": "stdout",
     "output_type": "stream",
     "text": [
      "[16.3    16.45   16.22   16.59   16.81   16.9    16.6    16.94   17.02\n",
      " 17.     16.98   17.34   17.38   17.76   17.72   18.1    18.81   19.12\n",
      " 19.01   18.59   17.95   17.93   18.19   18.21   18.12   17.83   17.67\n",
      " 17.57   17.73   17.65   16.95   16.64   17.02   17.26   16.92   16.88\n",
      " 17.01   16.93   16.95   17.22   17.06   16.73   16.34   16.13   16.46\n",
      " 16.17   16.31   16.42   16.8    16.43   16.75   16.84   16.94   17.36\n",
      " 17.17   17.37   17.56   17.76   17.95   18.45   18.42   18.23   18.15\n",
      " 18.05   18.5    18.83   19.09   19.23   19.2    19.35   19.38   18.92\n",
      " 19.17   18.92   18.87   18.98   18.6    18.82   16.36   16.17   15.72\n",
      " 16.01   15.64   15.8    15.81   16.27   16.16   16.21   15.47   15.34\n",
      " 15.96   16.16   16.39   16.81   16.99   16.8    17.47   18.12   17.72\n",
      " 17.63   17.87   18.07   18.72   18.68   18.97   18.89   18.86   18.99\n",
      " 19.18   19.47   19.08   18.96   19.69   19.84   20.48   20.53   20.39\n",
      " 20.02   20.06   20.5    20.72   20.58   20.5    20.62   21.     21.14\n",
      " 21.22   21.95   21.4    22.67   22.15   22.01   22.37   22.58   21.97\n",
      " 22.44   22.71   22.68   22.4    22.08   23.21   23.27   23.52   23.31\n",
      " 23.66   23.89   24.4    24.23   24.06   23.99   24.27   24.24   23.81\n",
      " 23.98   23.48   23.04   22.39   21.87   22.35   22.55   24.6    24.88\n",
      " 25.99   25.45   26.23   26.61   26.1    26.23   26.12   26.33   26.18\n",
      " 26.25   26.13   24.94   24.78   25.25   25.36   26.54   27.03   26.905\n",
      " 27.63   29.42   29.35   28.65   28.87   28.84   29.34   30.02   30.66\n",
      " 31.2    31.35   30.4    30.18   31.96   32.98   33.8    33.55   33.96\n",
      " 34.05   33.8    34.66   35.67   35.58   35.13   34.69   35.025  34.41\n",
      " 34.31   34.59   35.66   36.17   36.65   37.     36.75   36.56   36.93\n",
      " 36.1    37.34   37.86   38.81   39.02   38.96   38.08   37.5599 36.74\n",
      " 36.34   37.7    37.35   37.08   36.56   36.11   36.8    37.9    36.7\n",
      " 35.77   35.39   36.6    37.94   37.71   37.34   36.56   35.78   35.98\n",
      " 36.9    35.29   33.6799 33.37   33.72   35.51   35.4    35.67   36.16\n",
      " 37.09   37.26   36.     35.16   35.51   35.07   36.39   36.49   36.6\n",
      " 36.67   37.22   38.25   38.26   39.39   39.31   38.84   38.19   38.525\n",
      " 38.57   38.24   38.32   38.72   39.11   39.35   39.8    39.82   40.16\n",
      " 41.22   41.44   42.82   42.41   43.88   43.59   43.66   42.29   40.2\n",
      " 40.38   41.06   41.87   42.66   43.06   44.55   44.36   43.179  43.91\n",
      " 44.55   44.     42.96   43.86   41.95   41.62   40.1    40.26   41.985\n",
      " 42.82   42.88   42.98   43.7    43.48   41.6999 42.9199 42.48  ]\n"
     ]
    }
   ],
   "source": [
    "y = np.array(df2['Prediction'])[:-future_days]\n",
    "print(y)"
   ]
  },
  {
   "cell_type": "markdown",
   "metadata": {
    "papermill": {
     "duration": 0.031958,
     "end_time": "2021-03-01T03:33:14.846894",
     "exception": false,
     "start_time": "2021-03-01T03:33:14.814936",
     "status": "completed"
    },
    "tags": []
   },
   "source": [
    "# Linear and Decision Tree Regression"
   ]
  },
  {
   "cell_type": "code",
   "execution_count": 19,
   "metadata": {
    "execution": {
     "iopub.execute_input": "2021-03-01T03:33:14.917942Z",
     "iopub.status.busy": "2021-03-01T03:33:14.917090Z",
     "iopub.status.idle": "2021-03-01T03:33:15.919383Z",
     "shell.execute_reply": "2021-03-01T03:33:15.918695Z"
    },
    "papermill": {
     "duration": 1.040514,
     "end_time": "2021-03-01T03:33:15.919509",
     "exception": false,
     "start_time": "2021-03-01T03:33:14.878995",
     "status": "completed"
    },
    "tags": []
   },
   "outputs": [],
   "source": [
    "from sklearn.model_selection import train_test_split\n",
    "x_train, x_test, y_train, y_test = train_test_split(x, y, test_size = 0.25)"
   ]
  },
  {
   "cell_type": "code",
   "execution_count": 20,
   "metadata": {
    "execution": {
     "iopub.execute_input": "2021-03-01T03:33:15.990638Z",
     "iopub.status.busy": "2021-03-01T03:33:15.989782Z",
     "iopub.status.idle": "2021-03-01T03:33:16.300898Z",
     "shell.execute_reply": "2021-03-01T03:33:16.300231Z"
    },
    "papermill": {
     "duration": 0.349061,
     "end_time": "2021-03-01T03:33:16.301056",
     "exception": false,
     "start_time": "2021-03-01T03:33:15.951995",
     "status": "completed"
    },
    "tags": []
   },
   "outputs": [],
   "source": [
    "from sklearn.tree import DecisionTreeRegressor\n",
    "from sklearn.linear_model import LinearRegression"
   ]
  },
  {
   "cell_type": "code",
   "execution_count": 21,
   "metadata": {
    "execution": {
     "iopub.execute_input": "2021-03-01T03:33:16.374931Z",
     "iopub.status.busy": "2021-03-01T03:33:16.374084Z",
     "iopub.status.idle": "2021-03-01T03:33:16.425529Z",
     "shell.execute_reply": "2021-03-01T03:33:16.424786Z"
    },
    "papermill": {
     "duration": 0.091932,
     "end_time": "2021-03-01T03:33:16.425698",
     "exception": false,
     "start_time": "2021-03-01T03:33:16.333766",
     "status": "completed"
    },
    "tags": []
   },
   "outputs": [],
   "source": [
    "# Implementing Linear and Decision Tree Regression Algorithms.\n",
    "tree = DecisionTreeRegressor().fit(x_train, y_train)\n",
    "lr = LinearRegression().fit(x_train, y_train)"
   ]
  },
  {
   "cell_type": "code",
   "execution_count": 22,
   "metadata": {
    "execution": {
     "iopub.execute_input": "2021-03-01T03:33:16.508383Z",
     "iopub.status.busy": "2021-03-01T03:33:16.507633Z",
     "iopub.status.idle": "2021-03-01T03:33:16.512982Z",
     "shell.execute_reply": "2021-03-01T03:33:16.512384Z"
    },
    "papermill": {
     "duration": 0.049952,
     "end_time": "2021-03-01T03:33:16.513116",
     "exception": false,
     "start_time": "2021-03-01T03:33:16.463164",
     "status": "completed"
    },
    "tags": []
   },
   "outputs": [
    {
     "name": "stderr",
     "output_type": "stream",
     "text": [
      "C:\\Users\\Dewesh Chopra\\AppData\\Local\\Temp\\ipykernel_11752\\1876488320.py:1: FutureWarning: In a future version of pandas all arguments of DataFrame.drop except for the argument 'labels' will be keyword-only.\n",
      "  x_future = df2.drop(['Prediction'], 1)[:-future_days]\n"
     ]
    },
    {
     "data": {
      "text/plain": [
       "array([[36.56  ],\n",
       "       [36.93  ],\n",
       "       [36.1   ],\n",
       "       [37.34  ],\n",
       "       [37.86  ],\n",
       "       [38.81  ],\n",
       "       [39.02  ],\n",
       "       [38.96  ],\n",
       "       [38.08  ],\n",
       "       [37.5599],\n",
       "       [36.74  ],\n",
       "       [36.34  ],\n",
       "       [37.7   ],\n",
       "       [37.35  ],\n",
       "       [37.08  ],\n",
       "       [36.56  ],\n",
       "       [36.11  ],\n",
       "       [36.8   ],\n",
       "       [37.9   ],\n",
       "       [36.7   ],\n",
       "       [35.77  ],\n",
       "       [35.39  ],\n",
       "       [36.6   ],\n",
       "       [37.94  ],\n",
       "       [37.71  ],\n",
       "       [37.34  ],\n",
       "       [36.56  ],\n",
       "       [35.78  ],\n",
       "       [35.98  ],\n",
       "       [36.9   ],\n",
       "       [35.29  ],\n",
       "       [33.6799],\n",
       "       [33.37  ],\n",
       "       [33.72  ],\n",
       "       [35.51  ],\n",
       "       [35.4   ],\n",
       "       [35.67  ],\n",
       "       [36.16  ],\n",
       "       [37.09  ],\n",
       "       [37.26  ],\n",
       "       [36.    ],\n",
       "       [35.16  ],\n",
       "       [35.51  ],\n",
       "       [35.07  ],\n",
       "       [36.39  ],\n",
       "       [36.49  ],\n",
       "       [36.6   ],\n",
       "       [36.67  ],\n",
       "       [37.22  ],\n",
       "       [38.25  ]])"
      ]
     },
     "execution_count": 22,
     "metadata": {},
     "output_type": "execute_result"
    }
   ],
   "source": [
    "x_future = df2.drop(['Prediction'], 1)[:-future_days]\n",
    "x_future = x_future.tail(future_days)\n",
    "x_future = np.array(x_future)\n",
    "x_future"
   ]
  },
  {
   "cell_type": "code",
   "execution_count": 23,
   "metadata": {
    "execution": {
     "iopub.execute_input": "2021-03-01T03:33:16.590328Z",
     "iopub.status.busy": "2021-03-01T03:33:16.589404Z",
     "iopub.status.idle": "2021-03-01T03:33:16.593987Z",
     "shell.execute_reply": "2021-03-01T03:33:16.593114Z"
    },
    "papermill": {
     "duration": 0.047546,
     "end_time": "2021-03-01T03:33:16.594162",
     "exception": false,
     "start_time": "2021-03-01T03:33:16.546616",
     "status": "completed"
    },
    "tags": []
   },
   "outputs": [
    {
     "name": "stdout",
     "output_type": "stream",
     "text": [
      "[39.74   39.39   41.44   39.95   38.19   38.525  38.57   38.24   38.32\n",
      " 38.72   39.11   39.35   39.8    39.82   40.16   39.74   41.44   42.82\n",
      " 42.41   43.88   43.59   42.96   43.48   42.41   40.38   39.95   39.74\n",
      " 42.66   43.06   44.55   44.36   43.179  43.179  44.55   42.82   42.96\n",
      " 40.01   41.95   40.16   40.1    40.26   41.985  42.82   42.88   42.98\n",
      " 43.7    43.48   36.67   42.9199 42.48  ]\n",
      "\n",
      "[41.88241998 42.28652384 41.3800206  42.7343146  43.30224434 44.3398083\n",
      " 44.56916454 44.50363418 43.54252231 42.97448335 42.07901105 41.64214202\n",
      " 43.12749673 42.74523632 42.45034973 41.88241998 41.39094232 42.1445414\n",
      " 43.34593124 42.03532415 41.01960364 40.60457806 41.92610689 43.38961815\n",
      " 43.13841845 42.7343146  41.88241998 41.03052537 41.24895989 42.25375866\n",
      " 40.4953608  38.73685373 38.39838944 38.78064985 40.73563877 40.61549979\n",
      " 40.91038638 41.44555095 42.46127145 42.64694079 41.27080334 40.35337837\n",
      " 40.73563877 40.25508283 41.69675064 41.8059679  41.92610689 42.00255897\n",
      " 42.60325389 43.72819165]\n"
     ]
    }
   ],
   "source": [
    "tree_prediction = tree.predict(x_future)\n",
    "print(tree_prediction)\n",
    "print()\n",
    "lr_prediction = lr.predict(x_future)\n",
    "print(lr_prediction)"
   ]
  },
  {
   "cell_type": "code",
   "execution_count": null,
   "metadata": {
    "execution": {
     "iopub.execute_input": "2021-03-01T03:33:16.671666Z",
     "iopub.status.busy": "2021-03-01T03:33:16.670732Z",
     "iopub.status.idle": "2021-03-01T03:33:16.674381Z",
     "shell.execute_reply": "2021-03-01T03:33:16.675178Z"
    },
    "papermill": {
     "duration": 0.046292,
     "end_time": "2021-03-01T03:33:16.675392",
     "exception": false,
     "start_time": "2021-03-01T03:33:16.629100",
     "status": "completed"
    },
    "tags": []
   },
   "outputs": [],
   "source": []
  },
  {
   "cell_type": "code",
   "execution_count": 24,
   "metadata": {
    "execution": {
     "iopub.execute_input": "2021-03-01T03:33:16.754070Z",
     "iopub.status.busy": "2021-03-01T03:33:16.753217Z",
     "iopub.status.idle": "2021-03-01T03:33:16.756754Z",
     "shell.execute_reply": "2021-03-01T03:33:16.757290Z"
    },
    "papermill": {
     "duration": 0.045544,
     "end_time": "2021-03-01T03:33:16.757444",
     "exception": false,
     "start_time": "2021-03-01T03:33:16.711900",
     "status": "completed"
    },
    "tags": []
   },
   "outputs": [
    {
     "name": "stderr",
     "output_type": "stream",
     "text": [
      "C:\\Users\\Dewesh Chopra\\AppData\\Local\\Temp\\ipykernel_11752\\189926940.py:3: SettingWithCopyWarning: \n",
      "A value is trying to be set on a copy of a slice from a DataFrame.\n",
      "Try using .loc[row_indexer,col_indexer] = value instead\n",
      "\n",
      "See the caveats in the documentation: https://pandas.pydata.org/pandas-docs/stable/user_guide/indexing.html#returning-a-view-versus-a-copy\n",
      "  valid['Predictions'] = predictions\n"
     ]
    },
    {
     "data": {
      "image/png": "[encoded data removed]",
      "text/plain": [
       "<Figure size 1152x576 with 1 Axes>"
      ]
     },
     "metadata": {
      "needs_background": "light"
     },
     "output_type": "display_data"
    }
   ],
   "source": [
    "predictions = tree_prediction \n",
    "valid = df2[x.shape[0]:]\n",
    "valid['Predictions'] = predictions\n",
    "plt.figure(figsize=(16,8))\n",
    "plt.title(\"Model\")\n",
    "plt.xlabel('Days')\n",
    "plt.ylabel('Close Price USD ($)')\n",
    "plt.plot(df['close'])\n",
    "plt.plot(valid[['close','Predictions']])\n",
    "plt.legend([\"Original\",\"Valid\",\"Predicted\"])\n",
    "plt.show()"
   ]
  },
  {
   "cell_type": "code",
   "execution_count": 25,
   "metadata": {
    "execution": {
     "iopub.execute_input": "2021-03-01T03:33:16.840648Z",
     "iopub.status.busy": "2021-03-01T03:33:16.834812Z",
     "iopub.status.idle": "2021-03-01T03:33:17.057590Z",
     "shell.execute_reply": "2021-03-01T03:33:17.056886Z"
    },
    "papermill": {
     "duration": 0.264674,
     "end_time": "2021-03-01T03:33:17.057718",
     "exception": false,
     "start_time": "2021-03-01T03:33:16.793044",
     "status": "completed"
    },
    "tags": []
   },
   "outputs": [
    {
     "name": "stderr",
     "output_type": "stream",
     "text": [
      "C:\\Users\\Dewesh Chopra\\AppData\\Local\\Temp\\ipykernel_11752\\3645520375.py:3: SettingWithCopyWarning: \n",
      "A value is trying to be set on a copy of a slice from a DataFrame.\n",
      "Try using .loc[row_indexer,col_indexer] = value instead\n",
      "\n",
      "See the caveats in the documentation: https://pandas.pydata.org/pandas-docs/stable/user_guide/indexing.html#returning-a-view-versus-a-copy\n",
      "  valid['Predictions'] = predictions\n"
     ]
    },
    {
     "data": {
      "image/png": "[encoded data removed]",
      "text/plain": [
       "<Figure size 1152x576 with 1 Axes>"
      ]
     },
     "metadata": {
      "needs_background": "light"
     },
     "output_type": "display_data"
    }
   ],
   "source": [
    "predictions = lr_prediction \n",
    "valid = df2[x.shape[0]:]\n",
    "valid['Predictions'] = predictions\n",
    "plt.figure(figsize=(16,8))\n",
    "plt.title(\"Model\")\n",
    "plt.xlabel('Days')\n",
    "plt.ylabel('Close Price USD ($)')\n",
    "plt.plot(df['close'])\n",
    "plt.plot(valid[['close','Predictions']])\n",
    "plt.legend([\"Original\",\"Valid\",\"Predicted\"])\n",
    "plt.show()"
   ]
  },
  {
   "cell_type": "code",
   "execution_count": null,
   "metadata": {},
   "outputs": [],
   "source": []
  }
 ],
 "metadata": {
  "kernelspec": {
   "display_name": "Python 3 (ipykernel)",
   "language": "python",
   "name": "python3"
  },
  "language_info": {
   "codemirror_mode": {
    "name": "ipython",
    "version": 3
   },
   "file_extension": ".py",
   "mimetype": "text/x-python",
   "name": "python",
   "nbconvert_exporter": "python",
   "pygments_lexer": "ipython3",
   "version": "3.9.12"
  },
  "papermill": {
   "duration": 9.755771,
   "end_time": "2021-03-01T03:33:17.204579",
   "environment_variables": {},
   "exception": null,
   "input_path": "__notebook__.ipynb",
   "output_path": "__notebook__.ipynb",
   "parameters": {},
   "start_time": "2021-03-01T03:33:07.448808",
   "version": "2.1.0"
  }
 },
 "nbformat": 4,
 "nbformat_minor": 4
}
